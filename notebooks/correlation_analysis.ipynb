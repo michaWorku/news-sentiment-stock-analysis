{
 "cells": [
  {
   "cell_type": "markdown",
   "id": "b6d9836c",
   "metadata": {},
   "source": [
    "# Correlation Between News Sentiment and Stock Movement\n",
    "\n",
    "## 🔍 Objective\n",
    "Quantify the relationship between financial news sentiment and stock price movements by calculating daily returns and comparing them with average sentiment scores.\n",
    "- Normalize and align financial news and stock data by date\n",
    "- Apply sentiment analysis on news headlines using TextBlob\n",
    "- Calculate stock return from daily closing prices\n",
    "- Quantitatively assess the correlation between sentiment and stock returns"
   ]
  },
  {
   "cell_type": "markdown",
   "id": "156601d7",
   "metadata": {},
   "source": [
    "## Import Libraries and Custom Modules"
   ]
  },
  {
   "cell_type": "code",
   "execution_count": 2,
   "id": "cd6e7770-5c48-4466-8a0f-2d5a829f5653",
   "metadata": {},
   "outputs": [],
   "source": [
    "%load_ext autoreload\n",
    "%autoreload 2\n",
    "\n",
    "import sys\n",
    "sys.path.append(\"..\")"
   ]
  },
  {
   "cell_type": "code",
   "execution_count": 3,
   "id": "ef7c9913",
   "metadata": {
    "vscode": {
     "languageId": "plaintext"
    }
   },
   "outputs": [],
   "source": [
    "import pandas as pd\n",
    "from src.data_alignment import align_datasets_by_date\n",
    "from src.sentiment_analysis import apply_sentiment_analysis, aggregate_daily_sentiment\n",
    "from src.correlation_analysis import calculate_daily_returns, merge_sentiment_with_returns, compute_correlation"
   ]
  },
  {
   "cell_type": "markdown",
   "id": "cd94b731",
   "metadata": {},
   "source": [
    "## Load Datasets"
   ]
  },
  {
   "cell_type": "code",
   "execution_count": 15,
   "id": "3f8b8ed2",
   "metadata": {
    "vscode": {
     "languageId": "plaintext"
    }
   },
   "outputs": [],
   "source": [
    "# Load datasets from exploratory EDA and technical analysis outputs\n",
    "news_df = pd.read_csv(\"../data/raw_analyst_ratings.csv\")\n",
    "stock_df = pd.read_csv(\"../data/extracted/combined_stocks.csv\")"
   ]
  },
  {
   "cell_type": "code",
   "execution_count": 16,
   "id": "8bde8348-02c0-433c-b9c8-314a24864aef",
   "metadata": {},
   "outputs": [
    {
     "name": "stdout",
     "output_type": "stream",
     "text": [
      "News Data Sample:\n",
      "    Unnamed: 0                                           headline  \\\n",
      "0           0            Stocks That Hit 52-Week Highs On Friday   \n",
      "1           1         Stocks That Hit 52-Week Highs On Wednesday   \n",
      "2           2                      71 Biggest Movers From Friday   \n",
      "3           3       46 Stocks Moving In Friday's Mid-Day Session   \n",
      "4           4  B of A Securities Maintains Neutral on Agilent...   \n",
      "\n",
      "                                                 url          publisher  \\\n",
      "0  https://www.benzinga.com/news/20/06/16190091/s...  Benzinga Insights   \n",
      "1  https://www.benzinga.com/news/20/06/16170189/s...  Benzinga Insights   \n",
      "2  https://www.benzinga.com/news/20/05/16103463/7...         Lisa Levin   \n",
      "3  https://www.benzinga.com/news/20/05/16095921/4...         Lisa Levin   \n",
      "4  https://www.benzinga.com/news/20/05/16095304/b...         Vick Meyer   \n",
      "\n",
      "                        date stock  \n",
      "0  2020-06-05 10:30:54-04:00     A  \n",
      "1  2020-06-03 10:45:20-04:00     A  \n",
      "2  2020-05-26 04:30:07-04:00     A  \n",
      "3  2020-05-22 12:45:06-04:00     A  \n",
      "4  2020-05-22 11:38:59-04:00     A  \n",
      "Stock Data Sample:\n",
      "          Date      Open      High       Low     Close  Adj Close      Volume  \\\n",
      "0  1999-01-22  0.043750  0.048828  0.038802  0.041016   0.037621  2714688000   \n",
      "1  1999-01-25  0.044271  0.045833  0.041016  0.045313   0.041562   510480000   \n",
      "2  1999-01-26  0.045833  0.046745  0.041146  0.041797   0.038337   343200000   \n",
      "3  1999-01-27  0.041927  0.042969  0.039583  0.041667   0.038218   244368000   \n",
      "4  1999-01-28  0.041667  0.041927  0.041276  0.041536   0.038098   227520000   \n",
      "\n",
      "   Dividends  Stock Splits               Company  \n",
      "0        0.0           0.0  NVDA_HISTORICAL_DATA  \n",
      "1        0.0           0.0  NVDA_HISTORICAL_DATA  \n",
      "2        0.0           0.0  NVDA_HISTORICAL_DATA  \n",
      "3        0.0           0.0  NVDA_HISTORICAL_DATA  \n",
      "4        0.0           0.0  NVDA_HISTORICAL_DATA  \n"
     ]
    }
   ],
   "source": [
    "# Preview datasets\n",
    "print(\"News Data Sample:\\n\", news_df.head())\n",
    "print(\"Stock Data Sample:\\n\", stock_df.head())"
   ]
  },
  {
   "cell_type": "markdown",
   "id": "8725ff09",
   "metadata": {},
   "source": [
    "## Align Datasets by Date"
   ]
  },
  {
   "cell_type": "code",
   "execution_count": 9,
   "id": "cda1360d",
   "metadata": {
    "vscode": {
     "languageId": "plaintext"
    }
   },
   "outputs": [],
   "source": [
    "aligned_news_df, aligned_stock_df = align_datasets_by_date(news_df, stock_df)"
   ]
  },
  {
   "cell_type": "code",
   "execution_count": 18,
   "id": "49d8ab4d-c9c3-47d5-b7d2-0e7f9444c977",
   "metadata": {},
   "outputs": [
    {
     "name": "stdout",
     "output_type": "stream",
     "text": [
      "Aligned News Shape: (55230, 7)\n",
      "Aligned Stock Shape: (15204, 10)\n",
      "Aligned News Sample:\n",
      "          date                                           headline\n",
      "0  2020-06-05            Stocks That Hit 52-Week Highs On Friday\n",
      "1  2020-06-03         Stocks That Hit 52-Week Highs On Wednesday\n",
      "2  2020-05-26                      71 Biggest Movers From Friday\n",
      "3  2020-05-22       46 Stocks Moving In Friday's Mid-Day Session\n",
      "4  2020-05-22  B of A Securities Maintains Neutral on Agilent...\n"
     ]
    }
   ],
   "source": [
    "# Display shape and sample\n",
    "print(f\"Aligned News Shape: {aligned_news_df.shape}\")\n",
    "print(f\"Aligned Stock Shape: {aligned_stock_df.shape}\")\n",
    "print(\"Aligned News Sample:\\n\", aligned_news_df[['date', 'headline']].head())"
   ]
  },
  {
   "cell_type": "markdown",
   "id": "65f883a3-bb5a-454c-a420-70509fa70842",
   "metadata": {},
   "source": [
    "**Analysis:** This ensures both datasets only contain matching trading dates, eliminating misalignment errors."
   ]
  },
  {
   "cell_type": "markdown",
   "id": "73d0e2fa",
   "metadata": {},
   "source": [
    "## Apply Sentiment Analysis"
   ]
  },
  {
   "cell_type": "code",
   "execution_count": 22,
   "id": "2f3fda3a",
   "metadata": {
    "vscode": {
     "languageId": "plaintext"
    }
   },
   "outputs": [
    {
     "name": "stdout",
     "output_type": "stream",
     "text": [
      "Sample Sentiment Scores:\n",
      "                                             headline  sentiment\n",
      "0            Stocks That Hit 52-Week Highs On Friday        0.0\n",
      "1         Stocks That Hit 52-Week Highs On Wednesday        0.0\n",
      "2                      71 Biggest Movers From Friday        0.0\n",
      "3       46 Stocks Moving In Friday's Mid-Day Session        0.0\n",
      "4  B of A Securities Maintains Neutral on Agilent...        0.0\n"
     ]
    }
   ],
   "source": [
    "aligned_news_df = apply_sentiment_analysis(aligned_news_df, text_column='headline')\n",
    "print(\"Sample Sentiment Scores:\\n\", aligned_news_df[['headline', 'sentiment']].head())"
   ]
  },
  {
   "cell_type": "markdown",
   "id": "0aa5d4d7-a017-4dce-b8c5-0ef167688abc",
   "metadata": {},
   "source": [
    "**Analysis:** Sentiment polarity ranges from -1 (very negative) to +1 (very positive), with 0 being neutral."
   ]
  },
  {
   "cell_type": "markdown",
   "id": "169a741c",
   "metadata": {},
   "source": [
    "## Aggregate Sentiment by Day"
   ]
  },
  {
   "cell_type": "code",
   "execution_count": 23,
   "id": "757078c2",
   "metadata": {
    "vscode": {
     "languageId": "plaintext"
    }
   },
   "outputs": [
    {
     "name": "stdout",
     "output_type": "stream",
     "text": [
      "Daily Average Sentiment:\n",
      "          date  avg_sentiment\n",
      "0  2011-04-27       0.000000\n",
      "1  2011-04-28       0.068182\n",
      "2  2011-04-29       0.166667\n",
      "3  2011-05-02      -0.009259\n",
      "4  2011-05-03       0.000000\n"
     ]
    }
   ],
   "source": [
    "daily_sentiment_df = aggregate_daily_sentiment(aligned_news_df, date_column='date')\n",
    "print(\"Daily Average Sentiment:\\n\", daily_sentiment_df.head())"
   ]
  },
  {
   "cell_type": "markdown",
   "id": "d43be54c-341c-45ac-9d93-842aeb562ff1",
   "metadata": {},
   "source": [
    "**Analysis:** This reduces noise by averaging all headline sentiments published on the same day."
   ]
  },
  {
   "cell_type": "markdown",
   "id": "3e30f969",
   "metadata": {},
   "source": [
    "## Calculate Daily Stock Returns"
   ]
  },
  {
   "cell_type": "code",
   "execution_count": 24,
   "id": "ceb3e7c1",
   "metadata": {
    "vscode": {
     "languageId": "plaintext"
    }
   },
   "outputs": [
    {
     "name": "stdout",
     "output_type": "stream",
     "text": [
      "Daily Returns:\n",
      "              date      Close  daily_return\n",
      "0      2011-04-27   0.482500           NaN\n",
      "12978  2011-04-27   9.831500     19.376166\n",
      "4452   2011-04-27  13.393797      0.362335\n",
      "10752  2011-04-27  26.379999      0.969568\n",
      "8526   2011-04-27   1.805333     -0.931564\n"
     ]
    }
   ],
   "source": [
    "stock_with_returns_df = calculate_daily_returns(aligned_stock_df, price_column='Close', date_column='date')\n",
    "print(\"Daily Returns:\\n\", stock_with_returns_df[['date', 'Close', 'daily_return']].head())"
   ]
  },
  {
   "cell_type": "markdown",
   "id": "1577bcaf-c490-4961-bef7-e30c9ad3fd0d",
   "metadata": {},
   "source": [
    "**Analysis:** Returns represent percent change from the previous day's close, which is a common metric in financial analysis."
   ]
  },
  {
   "cell_type": "markdown",
   "id": "b08e505a",
   "metadata": {},
   "source": [
    "## Merge Sentiment and Returns by Date"
   ]
  },
  {
   "cell_type": "code",
   "execution_count": 25,
   "id": "5d018d8c",
   "metadata": {
    "vscode": {
     "languageId": "plaintext"
    }
   },
   "outputs": [
    {
     "name": "stdout",
     "output_type": "stream",
     "text": [
      "Combined Data Sample:\n",
      "          date  avg_sentiment  daily_return\n",
      "0  2011-04-27            0.0           NaN\n",
      "1  2011-04-27            0.0     19.376166\n",
      "2  2011-04-27            0.0      0.362335\n",
      "3  2011-04-27            0.0      0.969568\n",
      "4  2011-04-27            0.0     -0.931564\n"
     ]
    }
   ],
   "source": [
    "combined_df = merge_sentiment_with_returns(stock_with_returns_df, daily_sentiment_df)\n",
    "print(\"Combined Data Sample:\\n\", combined_df[['date', 'avg_sentiment', 'daily_return']].head())"
   ]
  },
  {
   "cell_type": "markdown",
   "id": "11fd18ce-06c8-40b9-a1fb-1b84d2ea8847",
   "metadata": {},
   "source": [
    "**Analysis:** Now each row includes both stock return and average sentiment for the same day."
   ]
  },
  {
   "cell_type": "markdown",
   "id": "13f13fad",
   "metadata": {},
   "source": [
    "## Compute Correlation Between Sentiment and Returns"
   ]
  },
  {
   "cell_type": "code",
   "execution_count": 26,
   "id": "595ccf5b",
   "metadata": {
    "vscode": {
     "languageId": "plaintext"
    }
   },
   "outputs": [
    {
     "name": "stdout",
     "output_type": "stream",
     "text": [
      "📈 Pearson correlation: 0.0013 (p-value: 0.8729)\n"
     ]
    }
   ],
   "source": [
    "correlation = compute_correlation(combined_df)"
   ]
  },
  {
   "cell_type": "markdown",
   "id": "90739bc6-94cc-4595-a842-bc05374386da",
   "metadata": {},
   "source": [
    "**Analysis:** The Pearson correlation reveals the degree to which sentiment predicts or reflects market return trends. Correlation values:\n",
    "- Close to 0: Weak/no linear relationship\n",
    "- Positive: Sentiment rises with returns\n",
    "- Negative: Sentiment rises while returns drop\n",
    "\n",
    "The Pearson correlation value obtained was **0.0013** with a p-value of **0.8729**.\n",
    "- This result indicates **no meaningful linear relationship** between daily news sentiment and stock price movements.\n",
    "- The correlation is very close to zero, and the high p-value confirms it is not statistically significant.\n",
    "- In practical terms, this suggests that on the days evaluated, market reactions were likely influenced more by other factors (macroeconomic events, earnings reports, technical signals) than by average daily news sentiment.\n"
   ]
  },
  {
   "cell_type": "markdown",
   "id": "4ebd52ec-987c-4d41-b22a-ce510423d69f",
   "metadata": {},
   "source": [
    "**Key Insight:** Despite thorough alignment and analysis, the sentiment-return correlation was negligible and not statistically significant for this dataset. This underlines the importance of multi-factor models and broader datasets in financial forecasting."
   ]
  }
 ],
 "metadata": {
  "kernelspec": {
   "display_name": "Python 3 (ipykernel)",
   "language": "python",
   "name": "python3"
  },
  "language_info": {
   "codemirror_mode": {
    "name": "ipython",
    "version": 3
   },
   "file_extension": ".py",
   "mimetype": "text/x-python",
   "name": "python",
   "nbconvert_exporter": "python",
   "pygments_lexer": "ipython3",
   "version": "3.12.4"
  }
 },
 "nbformat": 4,
 "nbformat_minor": 5
}
