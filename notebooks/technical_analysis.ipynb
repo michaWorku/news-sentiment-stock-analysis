{
 "cells": [
  {
   "cell_type": "markdown",
   "id": "392f29c7",
   "metadata": {},
   "source": [
    "# Quantitiative Analysis using PyNance and Ta-Lib\n",
    "\n",
    "This notebook performs **quantitative financial analysis** using historical stock market data. The goal is to fetch stock data, compute technical indicators, and generate interactive visualizations to uncover price trends, volatility, and trading signals.\n",
    "\n",
    "## Objectives\n",
    "- Load historical stock price data using `yfinance`\n",
    "- Preprocess and clean the data\n",
    "- Compute key **technical indicators** with `TA-Lib`\n",
    "- Generate **interactive plots** using `plotly`\n",
    "- Summarize financial metrics\n",
    "\n",
    "## Tools & Libraries\n",
    "- **`yfinance`**: For fetching historical stock data\n",
    "- **`pandas`**: Data manipulation\n",
    "- **`TA-Lib`**: Technical indicator calculations\n",
    "- **`plotly`**: Interactive data visualization"
   ]
  },
  {
   "cell_type": "code",
   "execution_count": 1,
   "id": "0ec9e952-a553-4b8b-b802-faecaed008f2",
   "metadata": {},
   "outputs": [],
   "source": [
    "%load_ext autoreload\n",
    "%autoreload 2\n",
    "\n",
    "import sys\n",
    "sys.path.append(\"..\")"
   ]
  },
  {
   "cell_type": "code",
   "execution_count": 2,
   "id": "b3dc87c0-c9e9-42ae-9314-022c54d35248",
   "metadata": {},
   "outputs": [],
   "source": [
    "from src.technical_analysis import TechnicalAnalysis\n",
    "import pandas as pd"
   ]
  },
  {
   "cell_type": "markdown",
   "id": "da97f565-9b3f-4f0d-8ab8-e3576fbee19d",
   "metadata": {},
   "source": [
    "## Load & Prepare Financial Data\n",
    "- Using stock CSVs from data/financial folder (containing Open, High, Low, Close, Volume)\n",
    "- This supports folder or file path and auto-concatenates into a single DataFrame"
   ]
  },
  {
   "cell_type": "code",
   "execution_count": 3,
   "id": "2b7bca40-4506-493f-afd3-aaa5bf2a5bbf",
   "metadata": {},
   "outputs": [
    {
     "name": "stdout",
     "output_type": "stream",
     "text": [
      "\n",
      " Loading and preparing stock data...\n"
     ]
    },
    {
     "data": {
      "text/html": [
       "<div>\n",
       "<style scoped>\n",
       "    .dataframe tbody tr th:only-of-type {\n",
       "        vertical-align: middle;\n",
       "    }\n",
       "\n",
       "    .dataframe tbody tr th {\n",
       "        vertical-align: top;\n",
       "    }\n",
       "\n",
       "    .dataframe thead th {\n",
       "        text-align: right;\n",
       "    }\n",
       "</style>\n",
       "<table border=\"1\" class=\"dataframe\">\n",
       "  <thead>\n",
       "    <tr style=\"text-align: right;\">\n",
       "      <th></th>\n",
       "      <th>Date</th>\n",
       "      <th>Open</th>\n",
       "      <th>High</th>\n",
       "      <th>Low</th>\n",
       "      <th>Close</th>\n",
       "      <th>Adj Close</th>\n",
       "      <th>Volume</th>\n",
       "      <th>Dividends</th>\n",
       "      <th>Stock Splits</th>\n",
       "      <th>Company</th>\n",
       "    </tr>\n",
       "  </thead>\n",
       "  <tbody>\n",
       "    <tr>\n",
       "      <th>0</th>\n",
       "      <td>1999-01-22</td>\n",
       "      <td>0.043750</td>\n",
       "      <td>0.048828</td>\n",
       "      <td>0.038802</td>\n",
       "      <td>0.041016</td>\n",
       "      <td>0.037621</td>\n",
       "      <td>2714688000</td>\n",
       "      <td>0.0</td>\n",
       "      <td>0.0</td>\n",
       "      <td>NVDA_HISTORICAL_DATA</td>\n",
       "    </tr>\n",
       "    <tr>\n",
       "      <th>1</th>\n",
       "      <td>1999-01-25</td>\n",
       "      <td>0.044271</td>\n",
       "      <td>0.045833</td>\n",
       "      <td>0.041016</td>\n",
       "      <td>0.045313</td>\n",
       "      <td>0.041562</td>\n",
       "      <td>510480000</td>\n",
       "      <td>0.0</td>\n",
       "      <td>0.0</td>\n",
       "      <td>NVDA_HISTORICAL_DATA</td>\n",
       "    </tr>\n",
       "    <tr>\n",
       "      <th>2</th>\n",
       "      <td>1999-01-26</td>\n",
       "      <td>0.045833</td>\n",
       "      <td>0.046745</td>\n",
       "      <td>0.041146</td>\n",
       "      <td>0.041797</td>\n",
       "      <td>0.038337</td>\n",
       "      <td>343200000</td>\n",
       "      <td>0.0</td>\n",
       "      <td>0.0</td>\n",
       "      <td>NVDA_HISTORICAL_DATA</td>\n",
       "    </tr>\n",
       "    <tr>\n",
       "      <th>3</th>\n",
       "      <td>1999-01-27</td>\n",
       "      <td>0.041927</td>\n",
       "      <td>0.042969</td>\n",
       "      <td>0.039583</td>\n",
       "      <td>0.041667</td>\n",
       "      <td>0.038218</td>\n",
       "      <td>244368000</td>\n",
       "      <td>0.0</td>\n",
       "      <td>0.0</td>\n",
       "      <td>NVDA_HISTORICAL_DATA</td>\n",
       "    </tr>\n",
       "    <tr>\n",
       "      <th>4</th>\n",
       "      <td>1999-01-28</td>\n",
       "      <td>0.041667</td>\n",
       "      <td>0.041927</td>\n",
       "      <td>0.041276</td>\n",
       "      <td>0.041536</td>\n",
       "      <td>0.038098</td>\n",
       "      <td>227520000</td>\n",
       "      <td>0.0</td>\n",
       "      <td>0.0</td>\n",
       "      <td>NVDA_HISTORICAL_DATA</td>\n",
       "    </tr>\n",
       "  </tbody>\n",
       "</table>\n",
       "</div>"
      ],
      "text/plain": [
       "         Date      Open      High       Low     Close  Adj Close      Volume  \\\n",
       "0  1999-01-22  0.043750  0.048828  0.038802  0.041016   0.037621  2714688000   \n",
       "1  1999-01-25  0.044271  0.045833  0.041016  0.045313   0.041562   510480000   \n",
       "2  1999-01-26  0.045833  0.046745  0.041146  0.041797   0.038337   343200000   \n",
       "3  1999-01-27  0.041927  0.042969  0.039583  0.041667   0.038218   244368000   \n",
       "4  1999-01-28  0.041667  0.041927  0.041276  0.041536   0.038098   227520000   \n",
       "\n",
       "   Dividends  Stock Splits               Company  \n",
       "0        0.0           0.0  NVDA_HISTORICAL_DATA  \n",
       "1        0.0           0.0  NVDA_HISTORICAL_DATA  \n",
       "2        0.0           0.0  NVDA_HISTORICAL_DATA  \n",
       "3        0.0           0.0  NVDA_HISTORICAL_DATA  \n",
       "4        0.0           0.0  NVDA_HISTORICAL_DATA  "
      ]
     },
     "execution_count": 3,
     "metadata": {},
     "output_type": "execute_result"
    }
   ],
   "source": [
    "print(\"\\n Loading and preparing stock data...\")\n",
    "# ta = TechnicalAnalysis(\"../data/yfinance_data/TSLA_historical_data.csv\")  # folder with multiple .csv files\n",
    "ta = TechnicalAnalysis(\"../data/yfinance_data\")  # folder with multiple .csv files\n",
    "ta.clean_data(date_column='date')\n",
    "ta.df.head()"
   ]
  },
  {
   "cell_type": "markdown",
   "id": "1d99e51b-595d-411d-a434-243cd934c48d",
   "metadata": {},
   "source": [
    "## Calculate Technical Indicators"
   ]
  },
  {
   "cell_type": "code",
   "execution_count": 4,
   "id": "4f969f06-948a-4e92-9639-d13fa2c70205",
   "metadata": {},
   "outputs": [
    {
     "name": "stdout",
     "output_type": "stream",
     "text": [
      "\n",
      "📊 Calculating technical indicators (MA20, MA50, RSI, MACD)...\n"
     ]
    }
   ],
   "source": [
    "print(\"\\n📊 Calculating technical indicators (MA20, MA50, RSI, MACD)...\")\n",
    "ta.calculate_indicators()"
   ]
  },
  {
   "cell_type": "markdown",
   "id": "69f48fde-f86d-4490-a596-658bbbfa44c7",
   "metadata": {},
   "source": [
    "## Visualize Indicators"
   ]
  },
  {
   "cell_type": "markdown",
   "id": "a6c3c353-32e1-4f89-be58-fb28b64030b2",
   "metadata": {},
   "source": [
    "### Visualizgin Moving Averages"
   ]
  },
  {
   "cell_type": "code",
   "execution_count": 5,
   "id": "2a4a06d2-4ace-41bd-8bf1-4f9888baafd6",
   "metadata": {},
   "outputs": [
    {
     "name": "stdout",
     "output_type": "stream",
     "text": [
      "\n",
      "📈 Visualizing Moving Averages\n"
     ]
    },
    {
     "name": "stderr",
     "output_type": "stream",
     "text": [
      "/home/micha/Downloads/course/10-accademy/week-1/news-sentiment-stock-analysis/notebooks/../src/technical_analysis.py:103: UserWarning: Glyph 128200 (\\N{CHART WITH UPWARDS TREND}) missing from font(s) DejaVu Sans.\n",
      "  plt.tight_layout()\n",
      "/home/micha/Downloads/course/10-accademy/week-1/news-sentiment-stock-analysis/venv/lib/python3.12/site-packages/IPython/core/pylabtools.py:170: UserWarning: Glyph 128200 (\\N{CHART WITH UPWARDS TREND}) missing from font(s) DejaVu Sans.\n",
      "  fig.canvas.print_figure(bytes_io, **kw)\n"
     ]
    },
    {
     "data": {
      "image/png": "[encoded data removed]",
      "text/plain": [
       "<Figure size 1200x600 with 1 Axes>"
      ]
     },
     "metadata": {},
     "output_type": "display_data"
    }
   ],
   "source": [
    "print(\"\\n📈 Visualizing Moving Averages\")\n",
    "ta.plot_moving_averages()"
   ]
  },
  {
   "cell_type": "code",
   "execution_count": 6,
   "id": "d6d939c7-50f1-4e4e-a3d2-552db4f457db",
   "metadata": {},
   "outputs": [],
   "source": [
    "### Visualizing RSI"
   ]
  },
  {
   "cell_type": "code",
   "execution_count": 7,
   "id": "4de99864-6d98-4d6b-8157-fe5f7dfee27b",
   "metadata": {},
   "outputs": [
    {
     "name": "stdout",
     "output_type": "stream",
     "text": [
      "\n",
      "📊 Visualizing RSI\n"
     ]
    },
    {
     "name": "stderr",
     "output_type": "stream",
     "text": [
      "/home/micha/Downloads/course/10-accademy/week-1/news-sentiment-stock-analysis/notebooks/../src/technical_analysis.py:118: UserWarning: Glyph 128202 (\\N{BAR CHART}) missing from font(s) DejaVu Sans.\n",
      "  plt.tight_layout()\n",
      "/home/micha/Downloads/course/10-accademy/week-1/news-sentiment-stock-analysis/venv/lib/python3.12/site-packages/IPython/core/pylabtools.py:170: UserWarning: Glyph 128202 (\\N{BAR CHART}) missing from font(s) DejaVu Sans.\n",
      "  fig.canvas.print_figure(bytes_io, **kw)\n"
     ]
    },
    {
     "data": {
      "image/png": "[encoded data removed]",
      "text/plain": [
       "<Figure size 1000x400 with 1 Axes>"
      ]
     },
     "metadata": {},
     "output_type": "display_data"
    }
   ],
   "source": [
    "print(\"\\n📊 Visualizing RSI\")\n",
    "ta.plot_rsi()"
   ]
  },
  {
   "cell_type": "markdown",
   "id": "3927b48b",
   "metadata": {},
   "source": [
    "### Visualizing MACD"
   ]
  },
  {
   "cell_type": "code",
   "execution_count": 8,
   "id": "21421aed-9f06-4b97-ab20-cf7252ad1a22",
   "metadata": {},
   "outputs": [
    {
     "name": "stdout",
     "output_type": "stream",
     "text": [
      "\n",
      "📉 Visualizing MACD\n"
     ]
    },
    {
     "name": "stderr",
     "output_type": "stream",
     "text": [
      "/home/micha/Downloads/course/10-accademy/week-1/news-sentiment-stock-analysis/notebooks/../src/technical_analysis.py:133: UserWarning: Glyph 128201 (\\N{CHART WITH DOWNWARDS TREND}) missing from font(s) DejaVu Sans.\n",
      "  plt.tight_layout()\n",
      "/home/micha/Downloads/course/10-accademy/week-1/news-sentiment-stock-analysis/venv/lib/python3.12/site-packages/IPython/core/pylabtools.py:170: UserWarning: Glyph 128201 (\\N{CHART WITH DOWNWARDS TREND}) missing from font(s) DejaVu Sans.\n",
      "  fig.canvas.print_figure(bytes_io, **kw)\n"
     ]
    },
    {
     "data": {
      "image/png": "[encoded data removed]",
      "text/plain": [
       "<Figure size 1200x400 with 1 Axes>"
      ]
     },
     "metadata": {},
     "output_type": "display_data"
    }
   ],
   "source": [
    "print(\"\\n📉 Visualizing MACD\")\n",
    "ta.plot_macd()"
   ]
  },
  {
   "cell_type": "markdown",
   "id": "2fa95354-b2f9-4588-9639-a9684e78b094",
   "metadata": {},
   "source": [
    "## Summary Financial Metrics"
   ]
  },
  {
   "cell_type": "code",
   "execution_count": 9,
   "id": "67127932-ae1f-47de-af17-e435d1467603",
   "metadata": {},
   "outputs": [
    {
     "name": "stdout",
     "output_type": "stream",
     "text": [
      "\n",
      "📋 Summary Financial Metrics:\n",
      "\n",
      "📊 Financial Summary:\n",
      "Average Close: 46.81\n",
      "Max Close: 539.91\n",
      "Min Close: 0.03\n",
      "Volume Std Dev: 307664491.97\n"
     ]
    }
   ],
   "source": [
    "print(\"\\n📋 Summary Financial Metrics:\")\n",
    "ta.show_summary()"
   ]
  },
  {
   "cell_type": "markdown",
   "id": "39ea7cd0-e49c-4c70-ad47-257df0ebf050",
   "metadata": {},
   "source": [
    "## Load Historical Data from Yahoo Finance"
   ]
  },
  {
   "cell_type": "code",
   "execution_count": 10,
   "id": "0ce16a1f-4def-4f4a-8520-9590a8ced0af",
   "metadata": {},
   "outputs": [
    {
     "name": "stdout",
     "output_type": "stream",
     "text": [
      "\n",
      "🔍 Fetching historical stock data for AAPL...\n",
      "\n",
      "📈 Downloading AAPL stock data using yfinance...\n",
      "YF.download() has changed argument auto_adjust default to True\n"
     ]
    },
    {
     "name": "stderr",
     "output_type": "stream",
     "text": [
      "[*********************100%***********************]  1 of 1 completed"
     ]
    },
    {
     "name": "stdout",
     "output_type": "stream",
     "text": [
      "Price        date       Close        High         Low        Open    Volume  \\\n",
      "Ticker                   AAPL        AAPL        AAPL        AAPL      AAPL   \n",
      "0      2024-12-02  239.013428  240.210537  236.589283  236.699019  48137100   \n",
      "1      2024-12-03  242.066071  242.175806  238.325095  239.232909  38861000   \n",
      "2      2024-12-04  242.425201  243.522560  240.669442  242.285539  44383900   \n",
      "3      2024-12-05  242.455124  243.951514  241.547325  243.402850  40033900   \n",
      "4      2024-12-06  242.255600  244.041301  241.497434  242.325439  36870600   \n",
      "\n",
      "Price  Company  \n",
      "Ticker          \n",
      "0         AAPL  \n",
      "1         AAPL  \n",
      "2         AAPL  \n",
      "3         AAPL  \n",
      "4         AAPL  \n"
     ]
    },
    {
     "name": "stderr",
     "output_type": "stream",
     "text": [
      "\n"
     ]
    },
    {
     "data": {
      "text/html": [
       "<div>\n",
       "<style scoped>\n",
       "    .dataframe tbody tr th:only-of-type {\n",
       "        vertical-align: middle;\n",
       "    }\n",
       "\n",
       "    .dataframe tbody tr th {\n",
       "        vertical-align: top;\n",
       "    }\n",
       "\n",
       "    .dataframe thead tr th {\n",
       "        text-align: left;\n",
       "    }\n",
       "</style>\n",
       "<table border=\"1\" class=\"dataframe\">\n",
       "  <thead>\n",
       "    <tr>\n",
       "      <th>Price</th>\n",
       "      <th>date</th>\n",
       "      <th>Close</th>\n",
       "      <th>High</th>\n",
       "      <th>Low</th>\n",
       "      <th>Open</th>\n",
       "      <th>Volume</th>\n",
       "      <th>Company</th>\n",
       "    </tr>\n",
       "    <tr>\n",
       "      <th>Ticker</th>\n",
       "      <th></th>\n",
       "      <th>AAPL</th>\n",
       "      <th>AAPL</th>\n",
       "      <th>AAPL</th>\n",
       "      <th>AAPL</th>\n",
       "      <th>AAPL</th>\n",
       "      <th></th>\n",
       "    </tr>\n",
       "  </thead>\n",
       "  <tbody>\n",
       "    <tr>\n",
       "      <th>0</th>\n",
       "      <td>2024-12-02</td>\n",
       "      <td>239.013428</td>\n",
       "      <td>240.210537</td>\n",
       "      <td>236.589283</td>\n",
       "      <td>236.699019</td>\n",
       "      <td>48137100</td>\n",
       "      <td>AAPL</td>\n",
       "    </tr>\n",
       "    <tr>\n",
       "      <th>1</th>\n",
       "      <td>2024-12-03</td>\n",
       "      <td>242.066071</td>\n",
       "      <td>242.175806</td>\n",
       "      <td>238.325095</td>\n",
       "      <td>239.232909</td>\n",
       "      <td>38861000</td>\n",
       "      <td>AAPL</td>\n",
       "    </tr>\n",
       "    <tr>\n",
       "      <th>2</th>\n",
       "      <td>2024-12-04</td>\n",
       "      <td>242.425201</td>\n",
       "      <td>243.522560</td>\n",
       "      <td>240.669442</td>\n",
       "      <td>242.285539</td>\n",
       "      <td>44383900</td>\n",
       "      <td>AAPL</td>\n",
       "    </tr>\n",
       "    <tr>\n",
       "      <th>3</th>\n",
       "      <td>2024-12-05</td>\n",
       "      <td>242.455124</td>\n",
       "      <td>243.951514</td>\n",
       "      <td>241.547325</td>\n",
       "      <td>243.402850</td>\n",
       "      <td>40033900</td>\n",
       "      <td>AAPL</td>\n",
       "    </tr>\n",
       "    <tr>\n",
       "      <th>4</th>\n",
       "      <td>2024-12-06</td>\n",
       "      <td>242.255600</td>\n",
       "      <td>244.041301</td>\n",
       "      <td>241.497434</td>\n",
       "      <td>242.325439</td>\n",
       "      <td>36870600</td>\n",
       "      <td>AAPL</td>\n",
       "    </tr>\n",
       "    <tr>\n",
       "      <th>...</th>\n",
       "      <td>...</td>\n",
       "      <td>...</td>\n",
       "      <td>...</td>\n",
       "      <td>...</td>\n",
       "      <td>...</td>\n",
       "      <td>...</td>\n",
       "      <td>...</td>\n",
       "    </tr>\n",
       "    <tr>\n",
       "      <th>118</th>\n",
       "      <td>2025-05-23</td>\n",
       "      <td>195.270004</td>\n",
       "      <td>197.699997</td>\n",
       "      <td>193.460007</td>\n",
       "      <td>193.669998</td>\n",
       "      <td>78432900</td>\n",
       "      <td>AAPL</td>\n",
       "    </tr>\n",
       "    <tr>\n",
       "      <th>119</th>\n",
       "      <td>2025-05-27</td>\n",
       "      <td>200.210007</td>\n",
       "      <td>200.740005</td>\n",
       "      <td>197.429993</td>\n",
       "      <td>198.300003</td>\n",
       "      <td>56288500</td>\n",
       "      <td>AAPL</td>\n",
       "    </tr>\n",
       "    <tr>\n",
       "      <th>120</th>\n",
       "      <td>2025-05-28</td>\n",
       "      <td>200.419998</td>\n",
       "      <td>202.729996</td>\n",
       "      <td>199.899994</td>\n",
       "      <td>200.589996</td>\n",
       "      <td>45339700</td>\n",
       "      <td>AAPL</td>\n",
       "    </tr>\n",
       "    <tr>\n",
       "      <th>121</th>\n",
       "      <td>2025-05-29</td>\n",
       "      <td>199.949997</td>\n",
       "      <td>203.809998</td>\n",
       "      <td>198.509995</td>\n",
       "      <td>203.580002</td>\n",
       "      <td>51477900</td>\n",
       "      <td>AAPL</td>\n",
       "    </tr>\n",
       "    <tr>\n",
       "      <th>122</th>\n",
       "      <td>2025-05-30</td>\n",
       "      <td>200.850006</td>\n",
       "      <td>201.960007</td>\n",
       "      <td>196.779999</td>\n",
       "      <td>199.369995</td>\n",
       "      <td>70753100</td>\n",
       "      <td>AAPL</td>\n",
       "    </tr>\n",
       "  </tbody>\n",
       "</table>\n",
       "<p>123 rows × 7 columns</p>\n",
       "</div>"
      ],
      "text/plain": [
       "Price        date       Close        High         Low        Open    Volume  \\\n",
       "Ticker                   AAPL        AAPL        AAPL        AAPL      AAPL   \n",
       "0      2024-12-02  239.013428  240.210537  236.589283  236.699019  48137100   \n",
       "1      2024-12-03  242.066071  242.175806  238.325095  239.232909  38861000   \n",
       "2      2024-12-04  242.425201  243.522560  240.669442  242.285539  44383900   \n",
       "3      2024-12-05  242.455124  243.951514  241.547325  243.402850  40033900   \n",
       "4      2024-12-06  242.255600  244.041301  241.497434  242.325439  36870600   \n",
       "..            ...         ...         ...         ...         ...       ...   \n",
       "118    2025-05-23  195.270004  197.699997  193.460007  193.669998  78432900   \n",
       "119    2025-05-27  200.210007  200.740005  197.429993  198.300003  56288500   \n",
       "120    2025-05-28  200.419998  202.729996  199.899994  200.589996  45339700   \n",
       "121    2025-05-29  199.949997  203.809998  198.509995  203.580002  51477900   \n",
       "122    2025-05-30  200.850006  201.960007  196.779999  199.369995  70753100   \n",
       "\n",
       "Price  Company  \n",
       "Ticker          \n",
       "0         AAPL  \n",
       "1         AAPL  \n",
       "2         AAPL  \n",
       "3         AAPL  \n",
       "4         AAPL  \n",
       "..         ...  \n",
       "118       AAPL  \n",
       "119       AAPL  \n",
       "120       AAPL  \n",
       "121       AAPL  \n",
       "122       AAPL  \n",
       "\n",
       "[123 rows x 7 columns]"
      ]
     },
     "execution_count": 10,
     "metadata": {},
     "output_type": "execute_result"
    }
   ],
   "source": [
    "symbol = 'AAPL'\n",
    "print(f\"\\n🔍 Fetching historical stock data for {symbol}...\")\n",
    "ta = TechnicalAnalysis(filepath=None)\n",
    "ta.fetch_from_yfinance(symbol=symbol, period='6mo', interval='1d')"
   ]
  },
  {
   "cell_type": "markdown",
   "id": "8723c753-c0a0-45e9-a5e7-069ead5295ad",
   "metadata": {},
   "source": [
    "### Prepare Data for Technical Analysis"
   ]
  },
  {
   "cell_type": "code",
   "execution_count": 11,
   "id": "c6bb5160-a8ae-4d10-8635-07d648458ad9",
   "metadata": {},
   "outputs": [
    {
     "name": "stdout",
     "output_type": "stream",
     "text": [
      "\n",
      "🧹 Cleaning and Calculating Technical Indicators...\n"
     ]
    },
    {
     "data": {
      "text/html": [
       "<div>\n",
       "<style scoped>\n",
       "    .dataframe tbody tr th:only-of-type {\n",
       "        vertical-align: middle;\n",
       "    }\n",
       "\n",
       "    .dataframe tbody tr th {\n",
       "        vertical-align: top;\n",
       "    }\n",
       "\n",
       "    .dataframe thead tr th {\n",
       "        text-align: left;\n",
       "    }\n",
       "</style>\n",
       "<table border=\"1\" class=\"dataframe\">\n",
       "  <thead>\n",
       "    <tr>\n",
       "      <th>Price</th>\n",
       "      <th>date</th>\n",
       "      <th>Close</th>\n",
       "      <th>High</th>\n",
       "      <th>Low</th>\n",
       "      <th>Open</th>\n",
       "      <th>Volume</th>\n",
       "      <th>Company</th>\n",
       "      <th>SMA_20</th>\n",
       "      <th>SMA_50</th>\n",
       "      <th>RSI</th>\n",
       "      <th>MACD</th>\n",
       "      <th>Signal_Line</th>\n",
       "    </tr>\n",
       "    <tr>\n",
       "      <th>Ticker</th>\n",
       "      <th></th>\n",
       "      <th>AAPL</th>\n",
       "      <th>AAPL</th>\n",
       "      <th>AAPL</th>\n",
       "      <th>AAPL</th>\n",
       "      <th>AAPL</th>\n",
       "      <th></th>\n",
       "      <th></th>\n",
       "      <th></th>\n",
       "      <th></th>\n",
       "      <th></th>\n",
       "      <th></th>\n",
       "    </tr>\n",
       "  </thead>\n",
       "  <tbody>\n",
       "    <tr>\n",
       "      <th>0</th>\n",
       "      <td>2024-12-02</td>\n",
       "      <td>239.013428</td>\n",
       "      <td>240.210537</td>\n",
       "      <td>236.589283</td>\n",
       "      <td>236.699019</td>\n",
       "      <td>48137100</td>\n",
       "      <td>AAPL</td>\n",
       "      <td>NaN</td>\n",
       "      <td>NaN</td>\n",
       "      <td>NaN</td>\n",
       "      <td>0.000000</td>\n",
       "      <td>0.000000</td>\n",
       "    </tr>\n",
       "    <tr>\n",
       "      <th>1</th>\n",
       "      <td>2024-12-03</td>\n",
       "      <td>242.066071</td>\n",
       "      <td>242.175806</td>\n",
       "      <td>238.325095</td>\n",
       "      <td>239.232909</td>\n",
       "      <td>38861000</td>\n",
       "      <td>AAPL</td>\n",
       "      <td>NaN</td>\n",
       "      <td>NaN</td>\n",
       "      <td>NaN</td>\n",
       "      <td>0.243516</td>\n",
       "      <td>0.048703</td>\n",
       "    </tr>\n",
       "    <tr>\n",
       "      <th>2</th>\n",
       "      <td>2024-12-04</td>\n",
       "      <td>242.425201</td>\n",
       "      <td>243.522560</td>\n",
       "      <td>240.669442</td>\n",
       "      <td>242.285539</td>\n",
       "      <td>44383900</td>\n",
       "      <td>AAPL</td>\n",
       "      <td>NaN</td>\n",
       "      <td>NaN</td>\n",
       "      <td>NaN</td>\n",
       "      <td>0.460178</td>\n",
       "      <td>0.130998</td>\n",
       "    </tr>\n",
       "    <tr>\n",
       "      <th>3</th>\n",
       "      <td>2024-12-05</td>\n",
       "      <td>242.455124</td>\n",
       "      <td>243.951514</td>\n",
       "      <td>241.547325</td>\n",
       "      <td>243.402850</td>\n",
       "      <td>40033900</td>\n",
       "      <td>AAPL</td>\n",
       "      <td>NaN</td>\n",
       "      <td>NaN</td>\n",
       "      <td>NaN</td>\n",
       "      <td>0.627070</td>\n",
       "      <td>0.230212</td>\n",
       "    </tr>\n",
       "    <tr>\n",
       "      <th>4</th>\n",
       "      <td>2024-12-06</td>\n",
       "      <td>242.255600</td>\n",
       "      <td>244.041301</td>\n",
       "      <td>241.497434</td>\n",
       "      <td>242.325439</td>\n",
       "      <td>36870600</td>\n",
       "      <td>AAPL</td>\n",
       "      <td>NaN</td>\n",
       "      <td>NaN</td>\n",
       "      <td>NaN</td>\n",
       "      <td>0.734764</td>\n",
       "      <td>0.331123</td>\n",
       "    </tr>\n",
       "    <tr>\n",
       "      <th>...</th>\n",
       "      <td>...</td>\n",
       "      <td>...</td>\n",
       "      <td>...</td>\n",
       "      <td>...</td>\n",
       "      <td>...</td>\n",
       "      <td>...</td>\n",
       "      <td>...</td>\n",
       "      <td>...</td>\n",
       "      <td>...</td>\n",
       "      <td>...</td>\n",
       "      <td>...</td>\n",
       "      <td>...</td>\n",
       "    </tr>\n",
       "    <tr>\n",
       "      <th>118</th>\n",
       "      <td>2025-05-23</td>\n",
       "      <td>195.270004</td>\n",
       "      <td>197.699997</td>\n",
       "      <td>193.460007</td>\n",
       "      <td>193.669998</td>\n",
       "      <td>78432900</td>\n",
       "      <td>AAPL</td>\n",
       "      <td>205.631774</td>\n",
       "      <td>206.263889</td>\n",
       "      <td>45.488575</td>\n",
       "      <td>-1.066114</td>\n",
       "      <td>-0.381753</td>\n",
       "    </tr>\n",
       "    <tr>\n",
       "      <th>119</th>\n",
       "      <td>2025-05-27</td>\n",
       "      <td>200.210007</td>\n",
       "      <td>200.740005</td>\n",
       "      <td>197.429993</td>\n",
       "      <td>198.300003</td>\n",
       "      <td>56288500</td>\n",
       "      <td>AAPL</td>\n",
       "      <td>205.149035</td>\n",
       "      <td>206.003881</td>\n",
       "      <td>52.344822</td>\n",
       "      <td>-1.302805</td>\n",
       "      <td>-0.565964</td>\n",
       "    </tr>\n",
       "    <tr>\n",
       "      <th>120</th>\n",
       "      <td>2025-05-28</td>\n",
       "      <td>200.419998</td>\n",
       "      <td>202.729996</td>\n",
       "      <td>199.899994</td>\n",
       "      <td>200.589996</td>\n",
       "      <td>45339700</td>\n",
       "      <td>AAPL</td>\n",
       "      <td>204.623365</td>\n",
       "      <td>205.737886</td>\n",
       "      <td>55.568996</td>\n",
       "      <td>-1.456648</td>\n",
       "      <td>-0.744100</td>\n",
       "    </tr>\n",
       "    <tr>\n",
       "      <th>121</th>\n",
       "      <td>2025-05-29</td>\n",
       "      <td>199.949997</td>\n",
       "      <td>203.809998</td>\n",
       "      <td>198.509995</td>\n",
       "      <td>203.580002</td>\n",
       "      <td>51477900</td>\n",
       "      <td>AAPL</td>\n",
       "      <td>204.009779</td>\n",
       "      <td>205.488657</td>\n",
       "      <td>53.487333</td>\n",
       "      <td>-1.598073</td>\n",
       "      <td>-0.914895</td>\n",
       "    </tr>\n",
       "    <tr>\n",
       "      <th>122</th>\n",
       "      <td>2025-05-30</td>\n",
       "      <td>200.850006</td>\n",
       "      <td>201.960007</td>\n",
       "      <td>196.779999</td>\n",
       "      <td>199.369995</td>\n",
       "      <td>70753100</td>\n",
       "      <td>AAPL</td>\n",
       "      <td>203.400248</td>\n",
       "      <td>205.206494</td>\n",
       "      <td>53.321322</td>\n",
       "      <td>-1.618869</td>\n",
       "      <td>-1.055690</td>\n",
       "    </tr>\n",
       "  </tbody>\n",
       "</table>\n",
       "<p>123 rows × 12 columns</p>\n",
       "</div>"
      ],
      "text/plain": [
       "Price        date       Close        High         Low        Open    Volume  \\\n",
       "Ticker                   AAPL        AAPL        AAPL        AAPL      AAPL   \n",
       "0      2024-12-02  239.013428  240.210537  236.589283  236.699019  48137100   \n",
       "1      2024-12-03  242.066071  242.175806  238.325095  239.232909  38861000   \n",
       "2      2024-12-04  242.425201  243.522560  240.669442  242.285539  44383900   \n",
       "3      2024-12-05  242.455124  243.951514  241.547325  243.402850  40033900   \n",
       "4      2024-12-06  242.255600  244.041301  241.497434  242.325439  36870600   \n",
       "..            ...         ...         ...         ...         ...       ...   \n",
       "118    2025-05-23  195.270004  197.699997  193.460007  193.669998  78432900   \n",
       "119    2025-05-27  200.210007  200.740005  197.429993  198.300003  56288500   \n",
       "120    2025-05-28  200.419998  202.729996  199.899994  200.589996  45339700   \n",
       "121    2025-05-29  199.949997  203.809998  198.509995  203.580002  51477900   \n",
       "122    2025-05-30  200.850006  201.960007  196.779999  199.369995  70753100   \n",
       "\n",
       "Price  Company      SMA_20      SMA_50        RSI      MACD Signal_Line  \n",
       "Ticker                                                                   \n",
       "0         AAPL         NaN         NaN        NaN  0.000000    0.000000  \n",
       "1         AAPL         NaN         NaN        NaN  0.243516    0.048703  \n",
       "2         AAPL         NaN         NaN        NaN  0.460178    0.130998  \n",
       "3         AAPL         NaN         NaN        NaN  0.627070    0.230212  \n",
       "4         AAPL         NaN         NaN        NaN  0.734764    0.331123  \n",
       "..         ...         ...         ...        ...       ...         ...  \n",
       "118       AAPL  205.631774  206.263889  45.488575 -1.066114   -0.381753  \n",
       "119       AAPL  205.149035  206.003881  52.344822 -1.302805   -0.565964  \n",
       "120       AAPL  204.623365  205.737886  55.568996 -1.456648   -0.744100  \n",
       "121       AAPL  204.009779  205.488657  53.487333 -1.598073   -0.914895  \n",
       "122       AAPL  203.400248  205.206494  53.321322 -1.618869   -1.055690  \n",
       "\n",
       "[123 rows x 12 columns]"
      ]
     },
     "execution_count": 11,
     "metadata": {},
     "output_type": "execute_result"
    }
   ],
   "source": [
    "print(\"\\n🧹 Cleaning and Calculating Technical Indicators...\")\n",
    "ta.calculate_technical_indicators()"
   ]
  },
  {
   "cell_type": "markdown",
   "id": "97a2925b-635d-44b6-8192-5536bce83af7",
   "metadata": {},
   "source": [
    "### Visualize Full Stock Data with Indicators"
   ]
  },
  {
   "cell_type": "code",
   "execution_count": 12,
   "id": "2c5c9352-2dfc-4e49-81fc-06f10665e7e5",
   "metadata": {},
   "outputs": [
    {
     "name": "stdout",
     "output_type": "stream",
     "text": [
      "\n",
      "📊 Plotting stock chart with technical indicators\n"
     ]
    },
    {
     "data": {
      "application/vnd.plotly.v1+json": {
       "config": {
        "plotlyServerURL": "https://plot.ly"
       },
       "data": [
        {
         "close": {
          "bdata": "AAAAAG7gbUAAAABAHUJuQAAAAECbTW5AAAAAYJBObkAAAADgLUhuQAAAAKD/xG5AAAAAYI/lbkAAAADAsrxuQAAAACCg625AAAAAYA3xbkAAAACg8k1vQAAAAADXm29AAAAAoH/ubkAAAABgCyZvQAAAAEAVvG9AAAAAoPvUb0AAAABAQhlwQAAAAMBYJnBAAAAAoDLfb0AAAACg+nJvQAAAAAAoOm9AAAAAIGxobkAAAACgx1huQAAAACAijW5AAAAAgBE0bkAAAADAtUNuQAAAAAD2iG1AAAAA4L86bUAAAADg/hZtQAAAAKCFqW1AAAAAAL52bEAAAABgpq1sQAAAAMBVw2tAAAAAwFLpa0AAAACg5eNrQAAAAODNx2tAAAAAoNGpbEAAAADg+LVtQAAAAIAW2W1AAAAAYJWgbUAAAACg021tQAAAAADDbmxAAAAAQKwHbUAAAABgI/1sQAAAAKAUFW1AAAAAgKFibEAAAABgQmtsQAAAAGAXCm1AAAAAwOmRbUAAAACA1iZuQAAAAADziG5AAAAAgMuEbkAAAADgk5FuQAAAAABCsG5AAAAAQE+nbkAAAABA2NhuQAAAAEDt1m5AAAAAYHIBbkAAAADAp59tQAAAAKC+MG5AAAAAAPy2bUAAAABg33NtQAAAAADNbW1AAAAAoLJgbUAAAACgONhtQAAAAKDTZWxAAAAAAKCRa0AAAABARBZrQAAAAAD5LGpAAAAAwLumakAAAAAgCLdqQAAAAKAqjWpAAAAA4KjeakAAAABAOrpqQAAAACB+P2tAAAAAAByOa0AAAACAn+5rQAAAAACtp2tAAAAAoNHxa0AAAAAAqzNrQAAAAODZumtAAAAAALrca0AAAADgGPNrQAAAAKCQXWlAAAAAAESEZ0AAAACgHadmQAAAAOA2hmVAAAAA4N3SaEAAAADAdcVnQAAAAOB+vGhAAAAAICdIaUAAAABAAjxpQAAAAKB/QGhAAAAA4BqXaEAAAABgBh1oQAAAAEBP72hAAAAAQKCKaUAAAACAGwNqQAAAAIAwIGpAAAAAYKw7akAAAABg3l1qQAAAAEAYh2pAAAAA4EyhakAAAAAgmKJpQAAAACAl1GhAAAAAIADIaEAAAACAxn9oQAAAAGBnp2hAAAAA4KPIaEAAAACgR1lqQAAAAIDCnWpAAAAAYI+KakAAAABgZm5qQAAAAOBRaGpAAAAAwPUYakAAAAAghdtpQAAAAEDhQmlAAAAAIIUraUAAAADgo2hoQAAAAGC4BmlAAAAAoHANaUAAAABgZv5oQAAAAEAzG2lA",
          "dtype": "f8",
          "shape": "123, 1"
         },
         "high": {
          "bdata": "d9Lot7wGbkDEzdw0oEVuQKyzl9C4cG5AykvjzXJ+bkBWdylWUoFuQCxpExek1G5As4BrM5vzbkCoKQ5ISUZvQEmrin+GBG9ASgvNIRUWb0BKJwlMzVhvQNlsllkDp29AGLrt7mC1b0CNjNIumGxvQOh9PRJdzG9A+DFUAh3hb0Dmt9EGaxlwQOAcu9qVN3BABlpUSD0hcEA4IVOfepxvQBa8pb50lW9A72YfoQQQb0AOOsPV9HJuQIExHpGD125ApoDy57CebkD+v6jW82NuQHFbMj+g8m1AZExfbV5DbUDXZCwjqHFtQB6i8IJRzG1ASzJSyv2tbUCnwSJWZPdsQEkEu2go/GtAJQF0qJTya0Azxccwek9sQALOqvDIImxAkvDLGuzybEB5QMlzlfNtQCTPq6QM6W1AybQ3qrwGbkArYgqIC9NuQDi7vDG16GxACm+RHjUSbUBPx6rOhQNtQEc555CYJ21A7OH+6/otbUB5ajBVN8lsQBozwX+AXW1ANdLIKMqUbUCyUFlPuUBuQNZXxy5Pp25AVboLInybbkBJq/OEArZuQOBm2S6ezm5Ah/YHcKgLb0B+azQ+FxFvQHZrVd6FNW9AJY73zheVbkA5Vg8kj0RuQAk8XfG7OG5Abou7oLt2bkCly7D1LfhtQNrtWs+vh21AM9JVO42xbUA65w9zuSFuQBJwlCA5e21ANXS0W2oxbEAWbizztK5rQM4KiO/KEWtAQQ6qEG+1akBRek5JBd5qQIu2jXvI22pAZDsq3CZPa0CjMkTBkCZrQBT+fWK1UWtAvpcb9BOma0D227X+zvlrQGA4c641F2xAYUfuREAWbEBSNiFYivBrQCUkvm5iKmxASYk9vmLsa0AqdI2NpBxsQCrvUh785mlAC1XXn8jzaEAucsjbqTxoQMysVkDnwmdAmUAn3hwLaUD/i4sZzFBoQKnQVNbq6GhAM55U9SeVakBKc1+NymdpQJFk2CP9DWlAK+gVRzrSaECu8zFiejFoQPiRF4duKmlANuUlhkj3aUA4jJfwzhFqQJVIJrU1L2pArQC+6CJnakDRGhITyX5qQO872gmcqWpArg9Xku3IakAlLbFnAddpQL3GA5ulemlAgfZmCmQMaUCb1YnGuOVoQA9iDGk3+WhAaMWyL+AIaUAAAADgo2hqQAAAAMDMrGpAAAAAgBS+akAAAABguJ5qQAAAAIA9kmpAAAAAIFwvakAAAABACg9qQAAAAKBH4WlAAAAAAABYaUAAAABgZrZoQAAAACCuF2lAAAAAIFxXaUAAAACA63lpQAAAAGC4PmlA",
          "dtype": "f8",
          "shape": "123, 1"
         },
         "low": {
          "bdata": "TtuTZ9uSbUBwWgktZ8ptQGzDLBJsFW5A3eV5sIMxbkC/zIz76i9uQBclozFiJW5AEU6hp/yXbkAPLtUIW7VuQH7KqDLXom5AYDtmwre0bkDuFpaUuuFuQL5XKZG5JW9AruR4PJrkbkCBSf852s9uQPB6dxopo25AYU/sAOKab0BnI8r9ntVvQOA8bRMpEHBAPw8qwG6Ob0DAyKTVsERvQGrqL2SNGm9AnQOuZJ4nbkDjHqBa2iluQC+HH/yrU25AgmcwVJ0YbkDdCg0+He9tQMd0GqYODm1A31p4olmlbEAkaOBXI/1sQIqf+PC0O21APlC6aGZvbEDOuQzyw31sQAgCfSREW2tAeKU8pVpoa0CA8XVPe7hrQKzJDeIRnGtAoUxgixzua0CemxBeJchsQONTprdMLm1AkHK8/XOUbUCLgGWXGhxtQP1RwwkFJWxAKe53nVhDbEB1gUzMD3dsQCnyV+ADvGxACwJdq9FWbEAdWO7T4FxsQGaljIuZemxA3nPAqBfMbECaTRAxXmhtQEIUE5uUFW5AaYort74wbkDNIY347VpuQLmXm8UKf25A7otYasOcbkDLuphgMoNuQI6tBTrbkm5ALqo9ciPabUAetCwz/JdtQEDkwqHAvGxAXExc+Z95bUBsYg3J7EttQGoootfAnWxAwnfrR1kbbUAzhX09e05tQG/efbmk/WtALpF+fkkla0CuxzwVHdRqQMR8faS0BGpAAyuQ8sYpakDjg0KcPTZqQN6h1B/RZmpAVeRgvAqvakCWMH1rJX5qQLAoWv4aYGpAVPEBUWZJa0B3nqA/VnlrQOjyW9/MhWtAQykvLK2Ia0BJKzwcoyxrQNOjX0xM/mpAP2iFRqBTa0DW3WqqYJdrQNXdFvCQH2lAb3tUaAdjZ0CrmaShhcxlQPPW8w+hH2VAyOH9vUZ1ZUBjc4m6VNhmQC+Je1UfOmdAarJCl7AcaUB9m7AaOvFoQACkbSLHA2hAJGrb1kpFaEAxEgkR97FnQIkgIdLTdmhAmACW7xlRaUDMSnhBk1VpQK9bLCvCvWlAjrShoAbmaUCCEzJ4GwNqQACArmvHzGlAPoWpiwsUakBmKnDZpTxpQGmbj+tpvmhA2gpSHGKYaEB03Jyv5h9oQL9NnOWZTWhAgiH6XgCpaEAAAAAAANhpQAAAAAAAIGpAAAAAYI9SakAAAACgRzFqQAAAAOCjOGpAAAAA4FGIaUAAAADA9aBpQAAAAGC4FmlAAAAAYGb2aEAAAABguC5oQAAAAIDCrWhAAAAAwMz8aEAAAADgUdBoQAAAAMD1mGhA",
          "dtype": "f8",
          "shape": "123, 1"
         },
         "name": "OHLC",
         "open": {
          "bdata": "33JuXF6WbUC44or8c+dtQKcniSIjSW5AaLeIJeRsbkDppq/+aUpuQAjN4/3vJ25AnP4ouXfJbkDw5xwFoOtuQKcKD7h3yW5A5c98/CfnbkA4Pp9AlexuQCjPGkdNL29AwK31ubNxb0Cd7tfk8NxuQBVd5+Yt7m5AWQNSewXFb0Cw5WaMAdxvQCZNWk4ZGXBAjke2O1oTcECcN5vI73NvQDFlyw2kem9Am6oeO5cKb0AAAACgx1huQLftQDobd25AaDATEqZMbkCNGYRgzypuQNg7QlTW7W1AdGOYBvoebUANhDsl7EVtQLd/HC1pQm1AdccbLeyYbUAzxBAQ9/FsQIjfXhDA7mtAeKU8pVpoa0D9EZm1XwZsQAxqdHKmB2xAU7x1gWPva0ANIidUbMlsQDuog6zPMW1AvRpvdQ/DbUArYgqIC9NuQAXUkDf4rWxAjX9lCYBWbEA8fSyMXH9sQKsZLQx412xA7zh3xUkBbUCXIp+GnqhsQDHHUSvWfGxAhE2R9LXcbEBJj8YQMZNtQLYR/LDjHW5A8R7ibpF6bkD+tb/g3YpuQLRUXqzQk25ALPprtRe0bkDlwOfHfpNuQNDIVlOb9W5Aaag0CFKAbkCdLOM8FuNtQEE5mDZ4lG1AdOwBiSUvbkC8hEsnwqxtQNEQ5e6SY21AYDZkTEFEbUC6/jG8qlltQBYpbKdoZ21AXGsDY4rwa0BkIwsZQXtrQB/a2ptZ9WpAaGkGqCVfakDXshEH+6BqQOIJmBolvGpArdJ+8Q++akDAsx5OtrZqQKLMUr0NaWpAUlRt+ryWa0BaOopYY49rQHzMzOHz5mtA8TOKpDOja0CaiKdtJqxrQERuG645F2tAWIExQ7Vwa0C5KnYS96BrQOyJ54mqqGlAf1QVw1o0aEBbVtZT+R5mQMnmRG2TTmdALCs1mTF3ZUAlO6kbUZpnQHgbmadmO2dAWPEZDThlakDZ4wCBDzNpQIPutf40w2hAZyPIwyKeaEAjFeBRiiBoQP25Lfaee2hAxxED+123aUDNGM615JNpQGWyRvgww2lASo6CADM3akBMp0iJVQ1qQF7djzTUIGpAXDpEPcwZakDYLZgvPrppQNYfdVWwWmlABtTt12m+aEAThB3MF91oQFf2UgjBrmhAqCItFanXaEAAAABACl9qQAAAAIDCTWpAAAAAgMKNakAAAABgZl5qQAAAACCFi2pAAAAAwB79aUAAAACgcPVpQAAAAKBwpWlAAAAAYLgWaUAAAACgcDVoQAAAAKCZyWhAAAAAQOESaUAAAABgj3JpQAAAAADX62hA",
          "dtype": "f8",
          "shape": "123, 1"
         },
         "type": "candlestick",
         "x": [
          "2024-12-02T00:00:00.000000000",
          "2024-12-03T00:00:00.000000000",
          "2024-12-04T00:00:00.000000000",
          "2024-12-05T00:00:00.000000000",
          "2024-12-06T00:00:00.000000000",
          "2024-12-09T00:00:00.000000000",
          "2024-12-10T00:00:00.000000000",
          "2024-12-11T00:00:00.000000000",
          "2024-12-12T00:00:00.000000000",
          "2024-12-13T00:00:00.000000000",
          "2024-12-16T00:00:00.000000000",
          "2024-12-17T00:00:00.000000000",
          "2024-12-18T00:00:00.000000000",
          "2024-12-19T00:00:00.000000000",
          "2024-12-20T00:00:00.000000000",
          "2024-12-23T00:00:00.000000000",
          "2024-12-24T00:00:00.000000000",
          "2024-12-26T00:00:00.000000000",
          "2024-12-27T00:00:00.000000000",
          "2024-12-30T00:00:00.000000000",
          "2024-12-31T00:00:00.000000000",
          "2025-01-02T00:00:00.000000000",
          "2025-01-03T00:00:00.000000000",
          "2025-01-06T00:00:00.000000000",
          "2025-01-07T00:00:00.000000000",
          "2025-01-08T00:00:00.000000000",
          "2025-01-10T00:00:00.000000000",
          "2025-01-13T00:00:00.000000000",
          "2025-01-14T00:00:00.000000000",
          "2025-01-15T00:00:00.000000000",
          "2025-01-16T00:00:00.000000000",
          "2025-01-17T00:00:00.000000000",
          "2025-01-21T00:00:00.000000000",
          "2025-01-22T00:00:00.000000000",
          "2025-01-23T00:00:00.000000000",
          "2025-01-24T00:00:00.000000000",
          "2025-01-27T00:00:00.000000000",
          "2025-01-28T00:00:00.000000000",
          "2025-01-29T00:00:00.000000000",
          "2025-01-30T00:00:00.000000000",
          "2025-01-31T00:00:00.000000000",
          "2025-02-03T00:00:00.000000000",
          "2025-02-04T00:00:00.000000000",
          "2025-02-05T00:00:00.000000000",
          "2025-02-06T00:00:00.000000000",
          "2025-02-07T00:00:00.000000000",
          "2025-02-10T00:00:00.000000000",
          "2025-02-11T00:00:00.000000000",
          "2025-02-12T00:00:00.000000000",
          "2025-02-13T00:00:00.000000000",
          "2025-02-14T00:00:00.000000000",
          "2025-02-18T00:00:00.000000000",
          "2025-02-19T00:00:00.000000000",
          "2025-02-20T00:00:00.000000000",
          "2025-02-21T00:00:00.000000000",
          "2025-02-24T00:00:00.000000000",
          "2025-02-25T00:00:00.000000000",
          "2025-02-26T00:00:00.000000000",
          "2025-02-27T00:00:00.000000000",
          "2025-02-28T00:00:00.000000000",
          "2025-03-03T00:00:00.000000000",
          "2025-03-04T00:00:00.000000000",
          "2025-03-05T00:00:00.000000000",
          "2025-03-06T00:00:00.000000000",
          "2025-03-07T00:00:00.000000000",
          "2025-03-10T00:00:00.000000000",
          "2025-03-11T00:00:00.000000000",
          "2025-03-12T00:00:00.000000000",
          "2025-03-13T00:00:00.000000000",
          "2025-03-14T00:00:00.000000000",
          "2025-03-17T00:00:00.000000000",
          "2025-03-18T00:00:00.000000000",
          "2025-03-19T00:00:00.000000000",
          "2025-03-20T00:00:00.000000000",
          "2025-03-21T00:00:00.000000000",
          "2025-03-24T00:00:00.000000000",
          "2025-03-25T00:00:00.000000000",
          "2025-03-26T00:00:00.000000000",
          "2025-03-27T00:00:00.000000000",
          "2025-03-28T00:00:00.000000000",
          "2025-03-31T00:00:00.000000000",
          "2025-04-01T00:00:00.000000000",
          "2025-04-02T00:00:00.000000000",
          "2025-04-03T00:00:00.000000000",
          "2025-04-04T00:00:00.000000000",
          "2025-04-07T00:00:00.000000000",
          "2025-04-08T00:00:00.000000000",
          "2025-04-09T00:00:00.000000000",
          "2025-04-10T00:00:00.000000000",
          "2025-04-11T00:00:00.000000000",
          "2025-04-14T00:00:00.000000000",
          "2025-04-15T00:00:00.000000000",
          "2025-04-16T00:00:00.000000000",
          "2025-04-17T00:00:00.000000000",
          "2025-04-21T00:00:00.000000000",
          "2025-04-22T00:00:00.000000000",
          "2025-04-23T00:00:00.000000000",
          "2025-04-24T00:00:00.000000000",
          "2025-04-25T00:00:00.000000000",
          "2025-04-28T00:00:00.000000000",
          "2025-04-29T00:00:00.000000000",
          "2025-04-30T00:00:00.000000000",
          "2025-05-01T00:00:00.000000000",
          "2025-05-02T00:00:00.000000000",
          "2025-05-05T00:00:00.000000000",
          "2025-05-06T00:00:00.000000000",
          "2025-05-07T00:00:00.000000000",
          "2025-05-08T00:00:00.000000000",
          "2025-05-09T00:00:00.000000000",
          "2025-05-12T00:00:00.000000000",
          "2025-05-13T00:00:00.000000000",
          "2025-05-14T00:00:00.000000000",
          "2025-05-15T00:00:00.000000000",
          "2025-05-16T00:00:00.000000000",
          "2025-05-19T00:00:00.000000000",
          "2025-05-20T00:00:00.000000000",
          "2025-05-21T00:00:00.000000000",
          "2025-05-22T00:00:00.000000000",
          "2025-05-23T00:00:00.000000000",
          "2025-05-27T00:00:00.000000000",
          "2025-05-28T00:00:00.000000000",
          "2025-05-29T00:00:00.000000000",
          "2025-05-30T00:00:00.000000000"
         ],
         "xaxis": "x",
         "yaxis": "y"
        },
        {
         "name": "Volume",
         "type": "bar",
         "x": [
          "2024-12-02T00:00:00.000000000",
          "2024-12-03T00:00:00.000000000",
          "2024-12-04T00:00:00.000000000",
          "2024-12-05T00:00:00.000000000",
          "2024-12-06T00:00:00.000000000",
          "2024-12-09T00:00:00.000000000",
          "2024-12-10T00:00:00.000000000",
          "2024-12-11T00:00:00.000000000",
          "2024-12-12T00:00:00.000000000",
          "2024-12-13T00:00:00.000000000",
          "2024-12-16T00:00:00.000000000",
          "2024-12-17T00:00:00.000000000",
          "2024-12-18T00:00:00.000000000",
          "2024-12-19T00:00:00.000000000",
          "2024-12-20T00:00:00.000000000",
          "2024-12-23T00:00:00.000000000",
          "2024-12-24T00:00:00.000000000",
          "2024-12-26T00:00:00.000000000",
          "2024-12-27T00:00:00.000000000",
          "2024-12-30T00:00:00.000000000",
          "2024-12-31T00:00:00.000000000",
          "2025-01-02T00:00:00.000000000",
          "2025-01-03T00:00:00.000000000",
          "2025-01-06T00:00:00.000000000",
          "2025-01-07T00:00:00.000000000",
          "2025-01-08T00:00:00.000000000",
          "2025-01-10T00:00:00.000000000",
          "2025-01-13T00:00:00.000000000",
          "2025-01-14T00:00:00.000000000",
          "2025-01-15T00:00:00.000000000",
          "2025-01-16T00:00:00.000000000",
          "2025-01-17T00:00:00.000000000",
          "2025-01-21T00:00:00.000000000",
          "2025-01-22T00:00:00.000000000",
          "2025-01-23T00:00:00.000000000",
          "2025-01-24T00:00:00.000000000",
          "2025-01-27T00:00:00.000000000",
          "2025-01-28T00:00:00.000000000",
          "2025-01-29T00:00:00.000000000",
          "2025-01-30T00:00:00.000000000",
          "2025-01-31T00:00:00.000000000",
          "2025-02-03T00:00:00.000000000",
          "2025-02-04T00:00:00.000000000",
          "2025-02-05T00:00:00.000000000",
          "2025-02-06T00:00:00.000000000",
          "2025-02-07T00:00:00.000000000",
          "2025-02-10T00:00:00.000000000",
          "2025-02-11T00:00:00.000000000",
          "2025-02-12T00:00:00.000000000",
          "2025-02-13T00:00:00.000000000",
          "2025-02-14T00:00:00.000000000",
          "2025-02-18T00:00:00.000000000",
          "2025-02-19T00:00:00.000000000",
          "2025-02-20T00:00:00.000000000",
          "2025-02-21T00:00:00.000000000",
          "2025-02-24T00:00:00.000000000",
          "2025-02-25T00:00:00.000000000",
          "2025-02-26T00:00:00.000000000",
          "2025-02-27T00:00:00.000000000",
          "2025-02-28T00:00:00.000000000",
          "2025-03-03T00:00:00.000000000",
          "2025-03-04T00:00:00.000000000",
          "2025-03-05T00:00:00.000000000",
          "2025-03-06T00:00:00.000000000",
          "2025-03-07T00:00:00.000000000",
          "2025-03-10T00:00:00.000000000",
          "2025-03-11T00:00:00.000000000",
          "2025-03-12T00:00:00.000000000",
          "2025-03-13T00:00:00.000000000",
          "2025-03-14T00:00:00.000000000",
          "2025-03-17T00:00:00.000000000",
          "2025-03-18T00:00:00.000000000",
          "2025-03-19T00:00:00.000000000",
          "2025-03-20T00:00:00.000000000",
          "2025-03-21T00:00:00.000000000",
          "2025-03-24T00:00:00.000000000",
          "2025-03-25T00:00:00.000000000",
          "2025-03-26T00:00:00.000000000",
          "2025-03-27T00:00:00.000000000",
          "2025-03-28T00:00:00.000000000",
          "2025-03-31T00:00:00.000000000",
          "2025-04-01T00:00:00.000000000",
          "2025-04-02T00:00:00.000000000",
          "2025-04-03T00:00:00.000000000",
          "2025-04-04T00:00:00.000000000",
          "2025-04-07T00:00:00.000000000",
          "2025-04-08T00:00:00.000000000",
          "2025-04-09T00:00:00.000000000",
          "2025-04-10T00:00:00.000000000",
          "2025-04-11T00:00:00.000000000",
          "2025-04-14T00:00:00.000000000",
          "2025-04-15T00:00:00.000000000",
          "2025-04-16T00:00:00.000000000",
          "2025-04-17T00:00:00.000000000",
          "2025-04-21T00:00:00.000000000",
          "2025-04-22T00:00:00.000000000",
          "2025-04-23T00:00:00.000000000",
          "2025-04-24T00:00:00.000000000",
          "2025-04-25T00:00:00.000000000",
          "2025-04-28T00:00:00.000000000",
          "2025-04-29T00:00:00.000000000",
          "2025-04-30T00:00:00.000000000",
          "2025-05-01T00:00:00.000000000",
          "2025-05-02T00:00:00.000000000",
          "2025-05-05T00:00:00.000000000",
          "2025-05-06T00:00:00.000000000",
          "2025-05-07T00:00:00.000000000",
          "2025-05-08T00:00:00.000000000",
          "2025-05-09T00:00:00.000000000",
          "2025-05-12T00:00:00.000000000",
          "2025-05-13T00:00:00.000000000",
          "2025-05-14T00:00:00.000000000",
          "2025-05-15T00:00:00.000000000",
          "2025-05-16T00:00:00.000000000",
          "2025-05-19T00:00:00.000000000",
          "2025-05-20T00:00:00.000000000",
          "2025-05-21T00:00:00.000000000",
          "2025-05-22T00:00:00.000000000",
          "2025-05-23T00:00:00.000000000",
          "2025-05-27T00:00:00.000000000",
          "2025-05-28T00:00:00.000000000",
          "2025-05-29T00:00:00.000000000",
          "2025-05-30T00:00:00.000000000"
         ],
         "xaxis": "x2",
         "y": {
          "bdata": "jIPeAsj4UAKcPqUCbN5iAsiZMgLwSqkCcEYzAijJsQIcJfQB5Oj5AdDMFAPwog8D1E1iA3z9oAOEmcoIsHRvAoyIYgHsmp8BZEqGAnyQHgJ8bVoCHIlSA4QTZgJgV68CwGlvAuQrPgI0oq0D7E31AiS8WQLAyV8C/PRGBGwMFQSAb9gFJH7SAzAclwOsn0IDKICnBdA0gwQUELYCPEdRA5xIBgaE21oEJKyvAsyOXAK0n8gBQOJdAtBN+QGArTMDpFuyAhQWMgPIBnAC5PjoAqhl6wHkHe0BWLorA8AtDwP0n9wCwACmAkD0cwJ4NWMDgPjPAtTkNAPQotAC4D6xAkAUwgIguEsEuMOJBCxmugPsZ6gDUCuVA7iK3QKQd4cC+No9A7SW6QK4RpwF7PSjAqBUDgI06Q0CkAU2AmiVXwJkY+QDHJ0rAmzhIwJ4DCoGdD+BB3yFkAlsKzQHfKj9CsC9Qwd8KjYFxIUKBhxyDwOwcY8DnEwPA+Q7yQIQWygDsKInA5jo0QLcOUcCPCxPAtDxMQIk1B0DxFRrA6hMBQaEIx0EdIANA3zJFQQ0PwIDDD4sAjgkzQO0EhgD6KbwAnwYrwLsO0MDVAzAAlhyiAIYgIcDgDvJAoTKrAT05FoDNNSzAox9EQNMmzcE",
          "dtype": "i4",
          "shape": "123, 1"
         },
         "yaxis": "y2"
        }
       ],
       "layout": {
        "template": {
         "data": {
          "bar": [
           {
            "error_x": {
             "color": "#2a3f5f"
            },
            "error_y": {
             "color": "#2a3f5f"
            },
            "marker": {
             "line": {
              "color": "white",
              "width": 0.5
             },
             "pattern": {
              "fillmode": "overlay",
              "size": 10,
              "solidity": 0.2
             }
            },
            "type": "bar"
           }
          ],
          "barpolar": [
           {
            "marker": {
             "line": {
              "color": "white",
              "width": 0.5
             },
             "pattern": {
              "fillmode": "overlay",
              "size": 10,
              "solidity": 0.2
             }
            },
            "type": "barpolar"
           }
          ],
          "carpet": [
           {
            "aaxis": {
             "endlinecolor": "#2a3f5f",
             "gridcolor": "#C8D4E3",
             "linecolor": "#C8D4E3",
             "minorgridcolor": "#C8D4E3",
             "startlinecolor": "#2a3f5f"
            },
            "baxis": {
             "endlinecolor": "#2a3f5f",
             "gridcolor": "#C8D4E3",
             "linecolor": "#C8D4E3",
             "minorgridcolor": "#C8D4E3",
             "startlinecolor": "#2a3f5f"
            },
            "type": "carpet"
           }
          ],
          "choropleth": [
           {
            "colorbar": {
             "outlinewidth": 0,
             "ticks": ""
            },
            "type": "choropleth"
           }
          ],
          "contour": [
           {
            "colorbar": {
             "outlinewidth": 0,
             "ticks": ""
            },
            "colorscale": [
             [
              0,
              "#0d0887"
             ],
             [
              0.1111111111111111,
              "#46039f"
             ],
             [
              0.2222222222222222,
              "#7201a8"
             ],
             [
              0.3333333333333333,
              "#9c179e"
             ],
             [
              0.4444444444444444,
              "#bd3786"
             ],
             [
              0.5555555555555556,
              "#d8576b"
             ],
             [
              0.6666666666666666,
              "#ed7953"
             ],
             [
              0.7777777777777778,
              "#fb9f3a"
             ],
             [
              0.8888888888888888,
              "#fdca26"
             ],
             [
              1,
              "#f0f921"
             ]
            ],
            "type": "contour"
           }
          ],
          "contourcarpet": [
           {
            "colorbar": {
             "outlinewidth": 0,
             "ticks": ""
            },
            "type": "contourcarpet"
           }
          ],
          "heatmap": [
           {
            "colorbar": {
             "outlinewidth": 0,
             "ticks": ""
            },
            "colorscale": [
             [
              0,
              "#0d0887"
             ],
             [
              0.1111111111111111,
              "#46039f"
             ],
             [
              0.2222222222222222,
              "#7201a8"
             ],
             [
              0.3333333333333333,
              "#9c179e"
             ],
             [
              0.4444444444444444,
              "#bd3786"
             ],
             [
              0.5555555555555556,
              "#d8576b"
             ],
             [
              0.6666666666666666,
              "#ed7953"
             ],
             [
              0.7777777777777778,
              "#fb9f3a"
             ],
             [
              0.8888888888888888,
              "#fdca26"
             ],
             [
              1,
              "#f0f921"
             ]
            ],
            "type": "heatmap"
           }
          ],
          "histogram": [
           {
            "marker": {
             "pattern": {
              "fillmode": "overlay",
              "size": 10,
              "solidity": 0.2
             }
            },
            "type": "histogram"
           }
          ],
          "histogram2d": [
           {
            "colorbar": {
             "outlinewidth": 0,
             "ticks": ""
            },
            "colorscale": [
             [
              0,
              "#0d0887"
             ],
             [
              0.1111111111111111,
              "#46039f"
             ],
             [
              0.2222222222222222,
              "#7201a8"
             ],
             [
              0.3333333333333333,
              "#9c179e"
             ],
             [
              0.4444444444444444,
              "#bd3786"
             ],
             [
              0.5555555555555556,
              "#d8576b"
             ],
             [
              0.6666666666666666,
              "#ed7953"
             ],
             [
              0.7777777777777778,
              "#fb9f3a"
             ],
             [
              0.8888888888888888,
              "#fdca26"
             ],
             [
              1,
              "#f0f921"
             ]
            ],
            "type": "histogram2d"
           }
          ],
          "histogram2dcontour": [
           {
            "colorbar": {
             "outlinewidth": 0,
             "ticks": ""
            },
            "colorscale": [
             [
              0,
              "#0d0887"
             ],
             [
              0.1111111111111111,
              "#46039f"
             ],
             [
              0.2222222222222222,
              "#7201a8"
             ],
             [
              0.3333333333333333,
              "#9c179e"
             ],
             [
              0.4444444444444444,
              "#bd3786"
             ],
             [
              0.5555555555555556,
              "#d8576b"
             ],
             [
              0.6666666666666666,
              "#ed7953"
             ],
             [
              0.7777777777777778,
              "#fb9f3a"
             ],
             [
              0.8888888888888888,
              "#fdca26"
             ],
             [
              1,
              "#f0f921"
             ]
            ],
            "type": "histogram2dcontour"
           }
          ],
          "mesh3d": [
           {
            "colorbar": {
             "outlinewidth": 0,
             "ticks": ""
            },
            "type": "mesh3d"
           }
          ],
          "parcoords": [
           {
            "line": {
             "colorbar": {
              "outlinewidth": 0,
              "ticks": ""
             }
            },
            "type": "parcoords"
           }
          ],
          "pie": [
           {
            "automargin": true,
            "type": "pie"
           }
          ],
          "scatter": [
           {
            "fillpattern": {
             "fillmode": "overlay",
             "size": 10,
             "solidity": 0.2
            },
            "type": "scatter"
           }
          ],
          "scatter3d": [
           {
            "line": {
             "colorbar": {
              "outlinewidth": 0,
              "ticks": ""
             }
            },
            "marker": {
             "colorbar": {
              "outlinewidth": 0,
              "ticks": ""
             }
            },
            "type": "scatter3d"
           }
          ],
          "scattercarpet": [
           {
            "marker": {
             "colorbar": {
              "outlinewidth": 0,
              "ticks": ""
             }
            },
            "type": "scattercarpet"
           }
          ],
          "scattergeo": [
           {
            "marker": {
             "colorbar": {
              "outlinewidth": 0,
              "ticks": ""
             }
            },
            "type": "scattergeo"
           }
          ],
          "scattergl": [
           {
            "marker": {
             "colorbar": {
              "outlinewidth": 0,
              "ticks": ""
             }
            },
            "type": "scattergl"
           }
          ],
          "scattermap": [
           {
            "marker": {
             "colorbar": {
              "outlinewidth": 0,
              "ticks": ""
             }
            },
            "type": "scattermap"
           }
          ],
          "scattermapbox": [
           {
            "marker": {
             "colorbar": {
              "outlinewidth": 0,
              "ticks": ""
             }
            },
            "type": "scattermapbox"
           }
          ],
          "scatterpolar": [
           {
            "marker": {
             "colorbar": {
              "outlinewidth": 0,
              "ticks": ""
             }
            },
            "type": "scatterpolar"
           }
          ],
          "scatterpolargl": [
           {
            "marker": {
             "colorbar": {
              "outlinewidth": 0,
              "ticks": ""
             }
            },
            "type": "scatterpolargl"
           }
          ],
          "scatterternary": [
           {
            "marker": {
             "colorbar": {
              "outlinewidth": 0,
              "ticks": ""
             }
            },
            "type": "scatterternary"
           }
          ],
          "surface": [
           {
            "colorbar": {
             "outlinewidth": 0,
             "ticks": ""
            },
            "colorscale": [
             [
              0,
              "#0d0887"
             ],
             [
              0.1111111111111111,
              "#46039f"
             ],
             [
              0.2222222222222222,
              "#7201a8"
             ],
             [
              0.3333333333333333,
              "#9c179e"
             ],
             [
              0.4444444444444444,
              "#bd3786"
             ],
             [
              0.5555555555555556,
              "#d8576b"
             ],
             [
              0.6666666666666666,
              "#ed7953"
             ],
             [
              0.7777777777777778,
              "#fb9f3a"
             ],
             [
              0.8888888888888888,
              "#fdca26"
             ],
             [
              1,
              "#f0f921"
             ]
            ],
            "type": "surface"
           }
          ],
          "table": [
           {
            "cells": {
             "fill": {
              "color": "#EBF0F8"
             },
             "line": {
              "color": "white"
             }
            },
            "header": {
             "fill": {
              "color": "#C8D4E3"
             },
             "line": {
              "color": "white"
             }
            },
            "type": "table"
           }
          ]
         },
         "layout": {
          "annotationdefaults": {
           "arrowcolor": "#2a3f5f",
           "arrowhead": 0,
           "arrowwidth": 1
          },
          "autotypenumbers": "strict",
          "coloraxis": {
           "colorbar": {
            "outlinewidth": 0,
            "ticks": ""
           }
          },
          "colorscale": {
           "diverging": [
            [
             0,
             "#8e0152"
            ],
            [
             0.1,
             "#c51b7d"
            ],
            [
             0.2,
             "#de77ae"
            ],
            [
             0.3,
             "#f1b6da"
            ],
            [
             0.4,
             "#fde0ef"
            ],
            [
             0.5,
             "#f7f7f7"
            ],
            [
             0.6,
             "#e6f5d0"
            ],
            [
             0.7,
             "#b8e186"
            ],
            [
             0.8,
             "#7fbc41"
            ],
            [
             0.9,
             "#4d9221"
            ],
            [
             1,
             "#276419"
            ]
           ],
           "sequential": [
            [
             0,
             "#0d0887"
            ],
            [
             0.1111111111111111,
             "#46039f"
            ],
            [
             0.2222222222222222,
             "#7201a8"
            ],
            [
             0.3333333333333333,
             "#9c179e"
            ],
            [
             0.4444444444444444,
             "#bd3786"
            ],
            [
             0.5555555555555556,
             "#d8576b"
            ],
            [
             0.6666666666666666,
             "#ed7953"
            ],
            [
             0.7777777777777778,
             "#fb9f3a"
            ],
            [
             0.8888888888888888,
             "#fdca26"
            ],
            [
             1,
             "#f0f921"
            ]
           ],
           "sequentialminus": [
            [
             0,
             "#0d0887"
            ],
            [
             0.1111111111111111,
             "#46039f"
            ],
            [
             0.2222222222222222,
             "#7201a8"
            ],
            [
             0.3333333333333333,
             "#9c179e"
            ],
            [
             0.4444444444444444,
             "#bd3786"
            ],
            [
             0.5555555555555556,
             "#d8576b"
            ],
            [
             0.6666666666666666,
             "#ed7953"
            ],
            [
             0.7777777777777778,
             "#fb9f3a"
            ],
            [
             0.8888888888888888,
             "#fdca26"
            ],
            [
             1,
             "#f0f921"
            ]
           ]
          },
          "colorway": [
           "#636efa",
           "#EF553B",
           "#00cc96",
           "#ab63fa",
           "#FFA15A",
           "#19d3f3",
           "#FF6692",
           "#B6E880",
           "#FF97FF",
           "#FECB52"
          ],
          "font": {
           "color": "#2a3f5f"
          },
          "geo": {
           "bgcolor": "white",
           "lakecolor": "white",
           "landcolor": "white",
           "showlakes": true,
           "showland": true,
           "subunitcolor": "#C8D4E3"
          },
          "hoverlabel": {
           "align": "left"
          },
          "hovermode": "closest",
          "mapbox": {
           "style": "light"
          },
          "paper_bgcolor": "white",
          "plot_bgcolor": "white",
          "polar": {
           "angularaxis": {
            "gridcolor": "#EBF0F8",
            "linecolor": "#EBF0F8",
            "ticks": ""
           },
           "bgcolor": "white",
           "radialaxis": {
            "gridcolor": "#EBF0F8",
            "linecolor": "#EBF0F8",
            "ticks": ""
           }
          },
          "scene": {
           "xaxis": {
            "backgroundcolor": "white",
            "gridcolor": "#DFE8F3",
            "gridwidth": 2,
            "linecolor": "#EBF0F8",
            "showbackground": true,
            "ticks": "",
            "zerolinecolor": "#EBF0F8"
           },
           "yaxis": {
            "backgroundcolor": "white",
            "gridcolor": "#DFE8F3",
            "gridwidth": 2,
            "linecolor": "#EBF0F8",
            "showbackground": true,
            "ticks": "",
            "zerolinecolor": "#EBF0F8"
           },
           "zaxis": {
            "backgroundcolor": "white",
            "gridcolor": "#DFE8F3",
            "gridwidth": 2,
            "linecolor": "#EBF0F8",
            "showbackground": true,
            "ticks": "",
            "zerolinecolor": "#EBF0F8"
           }
          },
          "shapedefaults": {
           "line": {
            "color": "#2a3f5f"
           }
          },
          "ternary": {
           "aaxis": {
            "gridcolor": "#DFE8F3",
            "linecolor": "#A2B1C6",
            "ticks": ""
           },
           "baxis": {
            "gridcolor": "#DFE8F3",
            "linecolor": "#A2B1C6",
            "ticks": ""
           },
           "bgcolor": "white",
           "caxis": {
            "gridcolor": "#DFE8F3",
            "linecolor": "#A2B1C6",
            "ticks": ""
           }
          },
          "title": {
           "x": 0.05
          },
          "xaxis": {
           "automargin": true,
           "gridcolor": "#EBF0F8",
           "linecolor": "#EBF0F8",
           "ticks": "",
           "title": {
            "standoff": 15
           },
           "zerolinecolor": "#EBF0F8",
           "zerolinewidth": 2
          },
          "yaxis": {
           "automargin": true,
           "gridcolor": "#EBF0F8",
           "linecolor": "#EBF0F8",
           "ticks": "",
           "title": {
            "standoff": 15
           },
           "zerolinecolor": "#EBF0F8",
           "zerolinewidth": 2
          }
         }
        },
        "title": {
         "text": "Stock Price Overview"
        },
        "xaxis": {
         "anchor": "y",
         "domain": [
          0,
          1
         ],
         "matches": "x2",
         "showticklabels": false,
         "title": {
          "text": "Date"
         }
        },
        "xaxis2": {
         "anchor": "y2",
         "domain": [
          0,
          1
         ]
        },
        "yaxis": {
         "anchor": "x",
         "domain": [
          0.32099999999999995,
          0.9999999999999999
         ],
         "title": {
          "text": "Price"
         }
        },
        "yaxis2": {
         "anchor": "x2",
         "domain": [
          0,
          0.291
         ]
        }
       }
      },
      "image/png": "[encoded data removed]"
     },
     "metadata": {},
     "output_type": "display_data"
    }
   ],
   "source": [
    "print(\"\\n📊 Plotting stock chart with technical indicators\")\n",
    "ta.plot_stock_data(indicators=True, volume=True)"
   ]
  }
 ],
 "metadata": {
  "kernelspec": {
   "display_name": "Python 3 (ipykernel)",
   "language": "python",
   "name": "python3"
  },
  "language_info": {
   "codemirror_mode": {
    "name": "ipython",
    "version": 3
   },
   "file_extension": ".py",
   "mimetype": "text/x-python",
   "name": "python",
   "nbconvert_exporter": "python",
   "pygments_lexer": "ipython3",
   "version": "3.12.4"
  }
 },
 "nbformat": 4,
 "nbformat_minor": 5
}
